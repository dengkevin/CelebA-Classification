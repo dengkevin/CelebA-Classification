{
 "cells": [
  {
   "cell_type": "code",
   "execution_count": 1,
   "id": "1c607f4d",
   "metadata": {
    "_cell_guid": "de67fb5d-5551-42c6-bebc-f502ee4a3705",
    "_uuid": "5485e009-b325-446a-a9c4-49145cb479e9",
    "collapsed": false,
    "execution": {
     "iopub.execute_input": "2023-03-20T04:44:42.900770Z",
     "iopub.status.busy": "2023-03-20T04:44:42.900251Z",
     "iopub.status.idle": "2023-03-20T04:44:46.307104Z",
     "shell.execute_reply": "2023-03-20T04:44:46.306124Z"
    },
    "jupyter": {
     "outputs_hidden": false
    },
    "papermill": {
     "duration": 3.419988,
     "end_time": "2023-03-20T04:44:46.309788",
     "exception": false,
     "start_time": "2023-03-20T04:44:42.889800",
     "status": "completed"
    },
    "tags": []
   },
   "outputs": [],
   "source": [
    "import os\n",
    "import random\n",
    "import numpy as np\n",
    "import pandas as pd\n",
    "from tqdm import tqdm\n",
    "\n",
    "import matplotlib.pyplot as plt\n",
    "import seaborn as sns\n",
    "\n",
    "import torch\n",
    "import torch.nn as nn\n",
    "import torch.nn.functional as F\n",
    "from torchvision import transforms\n",
    "\n",
    "# set the random seed for reproduction \n",
    "SEED=190\n",
    "random.seed(SEED)\n",
    "np.random.seed(SEED)\n",
    "torch.manual_seed(SEED)\n",
    "\n",
    "# checking if GPU is available or not\n",
    "device = torch.device('cuda') if torch.cuda.is_available() else torch.device('cpu')"
   ]
  },
  {
   "cell_type": "markdown",
   "id": "134416e0",
   "metadata": {
    "_cell_guid": "e9ea228d-63f1-440d-ba84-8a0f5dfe861b",
    "_uuid": "8744196d-13ef-48f7-9503-e10d76e19d58",
    "papermill": {
     "duration": 0.006789,
     "end_time": "2023-03-20T04:44:46.326097",
     "exception": false,
     "start_time": "2023-03-20T04:44:46.319308",
     "status": "completed"
    },
    "tags": []
   },
   "source": [
    "## Load CelebA from Kaggle public dataset"
   ]
  },
  {
   "cell_type": "code",
   "execution_count": 2,
   "id": "9ef0bae7",
   "metadata": {
    "_cell_guid": "f6d511be-1a21-4f45-ad49-ca0df725769a",
    "_uuid": "ca9191de-d5cc-4895-99cd-20744a608cd1",
    "collapsed": false,
    "execution": {
     "iopub.execute_input": "2023-03-20T04:44:46.343052Z",
     "iopub.status.busy": "2023-03-20T04:44:46.341853Z",
     "iopub.status.idle": "2023-03-20T04:44:46.347527Z",
     "shell.execute_reply": "2023-03-20T04:44:46.346624Z"
    },
    "jupyter": {
     "outputs_hidden": false
    },
    "papermill": {
     "duration": 0.016262,
     "end_time": "2023-03-20T04:44:46.349778",
     "exception": false,
     "start_time": "2023-03-20T04:44:46.333516",
     "status": "completed"
    },
    "tags": []
   },
   "outputs": [],
   "source": [
    "# set directory \n",
    "main_folder = '../input/celeba-dataset/'\n",
    "images_folder = main_folder + 'img_align_celeba/img_align_celeba/'\n",
    "\n",
    "IMG_WIDTH = 178\n",
    "IMG_HEIGHT = 218"
   ]
  },
  {
   "cell_type": "markdown",
   "id": "b5400ad9",
   "metadata": {
    "_cell_guid": "1939b5dd-9af8-471a-ae70-ef55a3e33268",
    "_uuid": "62b6aa10-2d66-422d-84e1-371c42e4a868",
    "papermill": {
     "duration": 0.006975,
     "end_time": "2023-03-20T04:44:46.363854",
     "exception": false,
     "start_time": "2023-03-20T04:44:46.356879",
     "status": "completed"
    },
    "tags": []
   },
   "source": [
    "## 1. CelebA Overview"
   ]
  },
  {
   "cell_type": "code",
   "execution_count": 3,
   "id": "b44c9d49",
   "metadata": {
    "_cell_guid": "ab21c85b-2209-4023-b45e-0295bcc2b6e7",
    "_uuid": "e07c7181-6f45-4476-b70e-48696bfaa47f",
    "collapsed": false,
    "execution": {
     "iopub.execute_input": "2023-03-20T04:44:46.380302Z",
     "iopub.status.busy": "2023-03-20T04:44:46.379409Z",
     "iopub.status.idle": "2023-03-20T04:44:46.573789Z",
     "shell.execute_reply": "2023-03-20T04:44:46.572865Z"
    },
    "jupyter": {
     "outputs_hidden": false
    },
    "papermill": {
     "duration": 0.204924,
     "end_time": "2023-03-20T04:44:46.575980",
     "exception": false,
     "start_time": "2023-03-20T04:44:46.371056",
     "status": "completed"
    },
    "tags": []
   },
   "outputs": [
    {
     "data": {
      "text/plain": [
       "0    162770\n",
       "1     19867\n",
       "2     19962\n",
       "Name: partition, dtype: int64"
      ]
     },
     "execution_count": 3,
     "metadata": {},
     "output_type": "execute_result"
    }
   ],
   "source": [
    "# import the data set that include the attribute for each picture\n",
    "df_partition = pd.read_csv(main_folder + 'list_eval_partition.csv')\n",
    "\n",
    "# display counter by partition\n",
    "# 0 -> TRAINING\n",
    "# 1 -> VALIDATION\n",
    "# 2 -> TEST\n",
    "df_partition['partition'].value_counts().sort_index()"
   ]
  },
  {
   "cell_type": "code",
   "execution_count": 4,
   "id": "32192921",
   "metadata": {
    "_cell_guid": "f167c86f-7ab4-491f-b85f-4c074be9776e",
    "_uuid": "9ac6e806-132a-409f-ae5e-488657862348",
    "collapsed": false,
    "execution": {
     "iopub.execute_input": "2023-03-20T04:44:46.592546Z",
     "iopub.status.busy": "2023-03-20T04:44:46.592212Z",
     "iopub.status.idle": "2023-03-20T04:44:47.479053Z",
     "shell.execute_reply": "2023-03-20T04:44:47.477857Z"
    },
    "jupyter": {
     "outputs_hidden": false
    },
    "papermill": {
     "duration": 0.897419,
     "end_time": "2023-03-20T04:44:47.481332",
     "exception": false,
     "start_time": "2023-03-20T04:44:46.583913",
     "status": "completed"
    },
    "tags": []
   },
   "outputs": [
    {
     "data": {
      "text/plain": [
       "(202599, 40)"
      ]
     },
     "execution_count": 4,
     "metadata": {},
     "output_type": "execute_result"
    }
   ],
   "source": [
    "# import the data set that include the attribute for each picture\n",
    "df_attr = pd.read_csv(main_folder + 'list_attr_celeba.csv')\n",
    "df_attr.set_index('image_id', inplace=True)\n",
    "df_attr.replace(to_replace=-1, value=0, inplace=True) #replace -1 by 0\n",
    "df_attr.shape"
   ]
  },
  {
   "cell_type": "code",
   "execution_count": 5,
   "id": "8043a241",
   "metadata": {
    "_cell_guid": "f90430b7-8751-4927-ae7e-0904263af3d7",
    "_uuid": "eb951d9e-7a37-4d23-ad71-4037156919f9",
    "collapsed": false,
    "execution": {
     "iopub.execute_input": "2023-03-20T04:44:47.497674Z",
     "iopub.status.busy": "2023-03-20T04:44:47.497341Z",
     "iopub.status.idle": "2023-03-20T04:44:47.518183Z",
     "shell.execute_reply": "2023-03-20T04:44:47.517116Z"
    },
    "jupyter": {
     "outputs_hidden": false
    },
    "papermill": {
     "duration": 0.032108,
     "end_time": "2023-03-20T04:44:47.520999",
     "exception": false,
     "start_time": "2023-03-20T04:44:47.488891",
     "status": "completed"
    },
    "tags": []
   },
   "outputs": [
    {
     "data": {
      "text/html": [
       "<div>\n",
       "<style scoped>\n",
       "    .dataframe tbody tr th:only-of-type {\n",
       "        vertical-align: middle;\n",
       "    }\n",
       "\n",
       "    .dataframe tbody tr th {\n",
       "        vertical-align: top;\n",
       "    }\n",
       "\n",
       "    .dataframe thead th {\n",
       "        text-align: right;\n",
       "    }\n",
       "</style>\n",
       "<table border=\"1\" class=\"dataframe\">\n",
       "  <thead>\n",
       "    <tr style=\"text-align: right;\">\n",
       "      <th></th>\n",
       "      <th>5_o_Clock_Shadow</th>\n",
       "      <th>Arched_Eyebrows</th>\n",
       "      <th>Attractive</th>\n",
       "      <th>Bags_Under_Eyes</th>\n",
       "      <th>Bald</th>\n",
       "      <th>Bangs</th>\n",
       "      <th>Big_Lips</th>\n",
       "      <th>Big_Nose</th>\n",
       "      <th>Black_Hair</th>\n",
       "      <th>Blond_Hair</th>\n",
       "      <th>...</th>\n",
       "      <th>Sideburns</th>\n",
       "      <th>Smiling</th>\n",
       "      <th>Straight_Hair</th>\n",
       "      <th>Wavy_Hair</th>\n",
       "      <th>Wearing_Earrings</th>\n",
       "      <th>Wearing_Hat</th>\n",
       "      <th>Wearing_Lipstick</th>\n",
       "      <th>Wearing_Necklace</th>\n",
       "      <th>Wearing_Necktie</th>\n",
       "      <th>Young</th>\n",
       "    </tr>\n",
       "    <tr>\n",
       "      <th>image_id</th>\n",
       "      <th></th>\n",
       "      <th></th>\n",
       "      <th></th>\n",
       "      <th></th>\n",
       "      <th></th>\n",
       "      <th></th>\n",
       "      <th></th>\n",
       "      <th></th>\n",
       "      <th></th>\n",
       "      <th></th>\n",
       "      <th></th>\n",
       "      <th></th>\n",
       "      <th></th>\n",
       "      <th></th>\n",
       "      <th></th>\n",
       "      <th></th>\n",
       "      <th></th>\n",
       "      <th></th>\n",
       "      <th></th>\n",
       "      <th></th>\n",
       "      <th></th>\n",
       "    </tr>\n",
       "  </thead>\n",
       "  <tbody>\n",
       "    <tr>\n",
       "      <th>000001.jpg</th>\n",
       "      <td>0</td>\n",
       "      <td>1</td>\n",
       "      <td>1</td>\n",
       "      <td>0</td>\n",
       "      <td>0</td>\n",
       "      <td>0</td>\n",
       "      <td>0</td>\n",
       "      <td>0</td>\n",
       "      <td>0</td>\n",
       "      <td>0</td>\n",
       "      <td>...</td>\n",
       "      <td>0</td>\n",
       "      <td>1</td>\n",
       "      <td>1</td>\n",
       "      <td>0</td>\n",
       "      <td>1</td>\n",
       "      <td>0</td>\n",
       "      <td>1</td>\n",
       "      <td>0</td>\n",
       "      <td>0</td>\n",
       "      <td>1</td>\n",
       "    </tr>\n",
       "    <tr>\n",
       "      <th>000002.jpg</th>\n",
       "      <td>0</td>\n",
       "      <td>0</td>\n",
       "      <td>0</td>\n",
       "      <td>1</td>\n",
       "      <td>0</td>\n",
       "      <td>0</td>\n",
       "      <td>0</td>\n",
       "      <td>1</td>\n",
       "      <td>0</td>\n",
       "      <td>0</td>\n",
       "      <td>...</td>\n",
       "      <td>0</td>\n",
       "      <td>1</td>\n",
       "      <td>0</td>\n",
       "      <td>0</td>\n",
       "      <td>0</td>\n",
       "      <td>0</td>\n",
       "      <td>0</td>\n",
       "      <td>0</td>\n",
       "      <td>0</td>\n",
       "      <td>1</td>\n",
       "    </tr>\n",
       "    <tr>\n",
       "      <th>000003.jpg</th>\n",
       "      <td>0</td>\n",
       "      <td>0</td>\n",
       "      <td>0</td>\n",
       "      <td>0</td>\n",
       "      <td>0</td>\n",
       "      <td>0</td>\n",
       "      <td>1</td>\n",
       "      <td>0</td>\n",
       "      <td>0</td>\n",
       "      <td>0</td>\n",
       "      <td>...</td>\n",
       "      <td>0</td>\n",
       "      <td>0</td>\n",
       "      <td>0</td>\n",
       "      <td>1</td>\n",
       "      <td>0</td>\n",
       "      <td>0</td>\n",
       "      <td>0</td>\n",
       "      <td>0</td>\n",
       "      <td>0</td>\n",
       "      <td>1</td>\n",
       "    </tr>\n",
       "    <tr>\n",
       "      <th>000004.jpg</th>\n",
       "      <td>0</td>\n",
       "      <td>0</td>\n",
       "      <td>1</td>\n",
       "      <td>0</td>\n",
       "      <td>0</td>\n",
       "      <td>0</td>\n",
       "      <td>0</td>\n",
       "      <td>0</td>\n",
       "      <td>0</td>\n",
       "      <td>0</td>\n",
       "      <td>...</td>\n",
       "      <td>0</td>\n",
       "      <td>0</td>\n",
       "      <td>1</td>\n",
       "      <td>0</td>\n",
       "      <td>1</td>\n",
       "      <td>0</td>\n",
       "      <td>1</td>\n",
       "      <td>1</td>\n",
       "      <td>0</td>\n",
       "      <td>1</td>\n",
       "    </tr>\n",
       "    <tr>\n",
       "      <th>000005.jpg</th>\n",
       "      <td>0</td>\n",
       "      <td>1</td>\n",
       "      <td>1</td>\n",
       "      <td>0</td>\n",
       "      <td>0</td>\n",
       "      <td>0</td>\n",
       "      <td>1</td>\n",
       "      <td>0</td>\n",
       "      <td>0</td>\n",
       "      <td>0</td>\n",
       "      <td>...</td>\n",
       "      <td>0</td>\n",
       "      <td>0</td>\n",
       "      <td>0</td>\n",
       "      <td>0</td>\n",
       "      <td>0</td>\n",
       "      <td>0</td>\n",
       "      <td>1</td>\n",
       "      <td>0</td>\n",
       "      <td>0</td>\n",
       "      <td>1</td>\n",
       "    </tr>\n",
       "  </tbody>\n",
       "</table>\n",
       "<p>5 rows × 40 columns</p>\n",
       "</div>"
      ],
      "text/plain": [
       "            5_o_Clock_Shadow  Arched_Eyebrows  Attractive  Bags_Under_Eyes  \\\n",
       "image_id                                                                     \n",
       "000001.jpg                 0                1           1                0   \n",
       "000002.jpg                 0                0           0                1   \n",
       "000003.jpg                 0                0           0                0   \n",
       "000004.jpg                 0                0           1                0   \n",
       "000005.jpg                 0                1           1                0   \n",
       "\n",
       "            Bald  Bangs  Big_Lips  Big_Nose  Black_Hair  Blond_Hair  ...  \\\n",
       "image_id                                                             ...   \n",
       "000001.jpg     0      0         0         0           0           0  ...   \n",
       "000002.jpg     0      0         0         1           0           0  ...   \n",
       "000003.jpg     0      0         1         0           0           0  ...   \n",
       "000004.jpg     0      0         0         0           0           0  ...   \n",
       "000005.jpg     0      0         1         0           0           0  ...   \n",
       "\n",
       "            Sideburns  Smiling  Straight_Hair  Wavy_Hair  Wearing_Earrings  \\\n",
       "image_id                                                                     \n",
       "000001.jpg          0        1              1          0                 1   \n",
       "000002.jpg          0        1              0          0                 0   \n",
       "000003.jpg          0        0              0          1                 0   \n",
       "000004.jpg          0        0              1          0                 1   \n",
       "000005.jpg          0        0              0          0                 0   \n",
       "\n",
       "            Wearing_Hat  Wearing_Lipstick  Wearing_Necklace  Wearing_Necktie  \\\n",
       "image_id                                                                       \n",
       "000001.jpg            0                 1                 0                0   \n",
       "000002.jpg            0                 0                 0                0   \n",
       "000003.jpg            0                 0                 0                0   \n",
       "000004.jpg            0                 1                 1                0   \n",
       "000005.jpg            0                 1                 0                0   \n",
       "\n",
       "            Young  \n",
       "image_id           \n",
       "000001.jpg      1  \n",
       "000002.jpg      1  \n",
       "000003.jpg      1  \n",
       "000004.jpg      1  \n",
       "000005.jpg      1  \n",
       "\n",
       "[5 rows x 40 columns]"
      ]
     },
     "execution_count": 5,
     "metadata": {},
     "output_type": "execute_result"
    }
   ],
   "source": [
    "df_attr.head()"
   ]
  },
  {
   "cell_type": "code",
   "execution_count": 6,
   "id": "469168eb",
   "metadata": {
    "_cell_guid": "ac24416e-705a-482c-a26f-c8d9a14a6c22",
    "_uuid": "b640f38f-0591-4b69-b57f-947ae8a4e9e1",
    "collapsed": false,
    "execution": {
     "iopub.execute_input": "2023-03-20T04:44:47.537820Z",
     "iopub.status.busy": "2023-03-20T04:44:47.537535Z",
     "iopub.status.idle": "2023-03-20T04:44:47.543758Z",
     "shell.execute_reply": "2023-03-20T04:44:47.542684Z"
    },
    "jupyter": {
     "outputs_hidden": false
    },
    "papermill": {
     "duration": 0.019172,
     "end_time": "2023-03-20T04:44:47.547983",
     "exception": false,
     "start_time": "2023-03-20T04:44:47.528811",
     "status": "completed"
    },
    "tags": []
   },
   "outputs": [
    {
     "name": "stdout",
     "output_type": "stream",
     "text": [
      "0 5_o_Clock_Shadow\n",
      "1 Arched_Eyebrows\n",
      "2 Attractive\n",
      "3 Bags_Under_Eyes\n",
      "4 Bald\n",
      "5 Bangs\n",
      "6 Big_Lips\n",
      "7 Big_Nose\n",
      "8 Black_Hair\n",
      "9 Blond_Hair\n",
      "10 Blurry\n",
      "11 Brown_Hair\n",
      "12 Bushy_Eyebrows\n",
      "13 Chubby\n",
      "14 Double_Chin\n",
      "15 Eyeglasses\n",
      "16 Goatee\n",
      "17 Gray_Hair\n",
      "18 Heavy_Makeup\n",
      "19 High_Cheekbones\n",
      "20 Male\n",
      "21 Mouth_Slightly_Open\n",
      "22 Mustache\n",
      "23 Narrow_Eyes\n",
      "24 No_Beard\n",
      "25 Oval_Face\n",
      "26 Pale_Skin\n",
      "27 Pointy_Nose\n",
      "28 Receding_Hairline\n",
      "29 Rosy_Cheeks\n",
      "30 Sideburns\n",
      "31 Smiling\n",
      "32 Straight_Hair\n",
      "33 Wavy_Hair\n",
      "34 Wearing_Earrings\n",
      "35 Wearing_Hat\n",
      "36 Wearing_Lipstick\n",
      "37 Wearing_Necklace\n",
      "38 Wearing_Necktie\n",
      "39 Young\n"
     ]
    }
   ],
   "source": [
    "# List of available attributes\n",
    "for i, j in enumerate(df_attr.columns):\n",
    "    print(i, j)"
   ]
  },
  {
   "cell_type": "code",
   "execution_count": 7,
   "id": "9350da1f",
   "metadata": {
    "_cell_guid": "6bdedae9-9d26-4751-891c-ad12420d8e6e",
    "_uuid": "d47d0f5c-8d95-449c-b370-e2929b7081d0",
    "collapsed": false,
    "execution": {
     "iopub.execute_input": "2023-03-20T04:44:47.564529Z",
     "iopub.status.busy": "2023-03-20T04:44:47.564259Z",
     "iopub.status.idle": "2023-03-20T04:44:55.864063Z",
     "shell.execute_reply": "2023-03-20T04:44:55.863010Z"
    },
    "jupyter": {
     "outputs_hidden": false
    },
    "papermill": {
     "duration": 8.311678,
     "end_time": "2023-03-20T04:44:55.867431",
     "exception": false,
     "start_time": "2023-03-20T04:44:47.555753",
     "status": "completed"
    },
    "tags": []
   },
   "outputs": [
    {
     "data": {
      "text/plain": [
       "Smiling       0\n",
       "Male          1\n",
       "Young         0\n",
       "Eyeglasses    0\n",
       "Name: 162151.jpg, dtype: int64"
      ]
     },
     "execution_count": 7,
     "metadata": {},
     "output_type": "execute_result"
    },
    {
     "data": {
      "image/png": "[encoded data removed]",
      "text/plain": [
       "<Figure size 640x480 with 1 Axes>"
      ]
     },
     "metadata": {},
     "output_type": "display_data"
    }
   ],
   "source": [
    "# plot picture and attributes\n",
    "from tensorflow.keras.utils import load_img\n",
    "EXAMPLE_PIC = images_folder + '162151.jpg'\n",
    "img = load_img(EXAMPLE_PIC)\n",
    "plt.grid(False)\n",
    "plt.imshow(img)\n",
    "df_attr.loc[EXAMPLE_PIC.split('/')[-1]][['Smiling','Male','Young','Eyeglasses']] #some attributes"
   ]
  },
  {
   "cell_type": "code",
   "execution_count": 8,
   "id": "8bebd6bd",
   "metadata": {
    "_cell_guid": "be36e306-fe27-42c7-8047-a947368af1bd",
    "_uuid": "35722f05-2e98-41b4-9ec8-7ddb061d963f",
    "collapsed": false,
    "execution": {
     "iopub.execute_input": "2023-03-20T04:44:55.888564Z",
     "iopub.status.busy": "2023-03-20T04:44:55.888008Z",
     "iopub.status.idle": "2023-03-20T04:44:56.096958Z",
     "shell.execute_reply": "2023-03-20T04:44:56.095963Z"
    },
    "jupyter": {
     "outputs_hidden": false
    },
    "papermill": {
     "duration": 0.222133,
     "end_time": "2023-03-20T04:44:56.099193",
     "exception": false,
     "start_time": "2023-03-20T04:44:55.877060",
     "status": "completed"
    },
    "tags": []
   },
   "outputs": [
    {
     "data": {
      "image/png": "[encoded data removed]",
      "text/plain": [
       "<Figure size 640x480 with 1 Axes>"
      ]
     },
     "metadata": {},
     "output_type": "display_data"
    }
   ],
   "source": [
    "# smiling\n",
    "plt.title('Smiling or non-Smiling')\n",
    "sns.countplot(y='Smiling', data=df_attr, color=\"c\")\n",
    "plt.show()"
   ]
  },
  {
   "cell_type": "code",
   "execution_count": 9,
   "id": "19017ed5",
   "metadata": {
    "_cell_guid": "ce3d448a-be31-41fd-be69-0788cc50de8e",
    "_uuid": "ad21f730-1fe6-4d3d-b436-3bd12e300151",
    "collapsed": false,
    "execution": {
     "iopub.execute_input": "2023-03-20T04:44:56.121091Z",
     "iopub.status.busy": "2023-03-20T04:44:56.120772Z",
     "iopub.status.idle": "2023-03-20T04:44:56.206364Z",
     "shell.execute_reply": "2023-03-20T04:44:56.205206Z"
    },
    "jupyter": {
     "outputs_hidden": false
    },
    "papermill": {
     "duration": 0.099637,
     "end_time": "2023-03-20T04:44:56.208992",
     "exception": false,
     "start_time": "2023-03-20T04:44:56.109355",
     "status": "completed"
    },
    "tags": []
   },
   "outputs": [
    {
     "data": {
      "text/html": [
       "<div>\n",
       "<style scoped>\n",
       "    .dataframe tbody tr th:only-of-type {\n",
       "        vertical-align: middle;\n",
       "    }\n",
       "\n",
       "    .dataframe tbody tr th {\n",
       "        vertical-align: top;\n",
       "    }\n",
       "\n",
       "    .dataframe thead th {\n",
       "        text-align: right;\n",
       "    }\n",
       "</style>\n",
       "<table border=\"1\" class=\"dataframe\">\n",
       "  <thead>\n",
       "    <tr style=\"text-align: right;\">\n",
       "      <th></th>\n",
       "      <th>partition</th>\n",
       "      <th>Smiling</th>\n",
       "    </tr>\n",
       "    <tr>\n",
       "      <th>image_id</th>\n",
       "      <th></th>\n",
       "      <th></th>\n",
       "    </tr>\n",
       "  </thead>\n",
       "  <tbody>\n",
       "    <tr>\n",
       "      <th>000001.jpg</th>\n",
       "      <td>0</td>\n",
       "      <td>1</td>\n",
       "    </tr>\n",
       "    <tr>\n",
       "      <th>000002.jpg</th>\n",
       "      <td>0</td>\n",
       "      <td>1</td>\n",
       "    </tr>\n",
       "    <tr>\n",
       "      <th>000003.jpg</th>\n",
       "      <td>0</td>\n",
       "      <td>0</td>\n",
       "    </tr>\n",
       "    <tr>\n",
       "      <th>000004.jpg</th>\n",
       "      <td>0</td>\n",
       "      <td>0</td>\n",
       "    </tr>\n",
       "    <tr>\n",
       "      <th>000005.jpg</th>\n",
       "      <td>0</td>\n",
       "      <td>0</td>\n",
       "    </tr>\n",
       "  </tbody>\n",
       "</table>\n",
       "</div>"
      ],
      "text/plain": [
       "            partition  Smiling\n",
       "image_id                      \n",
       "000001.jpg          0        1\n",
       "000002.jpg          0        1\n",
       "000003.jpg          0        0\n",
       "000004.jpg          0        0\n",
       "000005.jpg          0        0"
      ]
     },
     "execution_count": 9,
     "metadata": {},
     "output_type": "execute_result"
    }
   ],
   "source": [
    "# join the partition with the attributes\n",
    "df_partition.set_index('image_id', inplace=True)\n",
    "df_par_attr = df_partition.join(df_attr['Smiling'], how='inner')\n",
    "df_par_attr.head()"
   ]
  },
  {
   "cell_type": "markdown",
   "id": "08cf7166",
   "metadata": {
    "_cell_guid": "b739a78e-b5de-4625-bb56-49dcb4633f3b",
    "_uuid": "57b6c434-8a4e-4fae-b77f-4db7b8856be7",
    "papermill": {
     "duration": 0.010561,
     "end_time": "2023-03-20T04:44:56.230214",
     "exception": false,
     "start_time": "2023-03-20T04:44:56.219653",
     "status": "completed"
    },
    "tags": []
   },
   "source": [
    "## 2.Dataset for Smiling\n",
    "\n",
    "* **celeba_train.csv** the training dataset. The 'id' is the file name in celeba-dataset\n",
    "* **celeba_valid.csv** the validation dataset. The 'id' is the file name in celeba-dataset"
   ]
  },
  {
   "cell_type": "code",
   "execution_count": 10,
   "id": "991740ee",
   "metadata": {
    "_cell_guid": "4dca4629-6533-4273-9c5f-2d866af5827f",
    "_uuid": "3a8aae95-6a0c-4d2e-b686-40aae12f1c89",
    "collapsed": false,
    "execution": {
     "iopub.execute_input": "2023-03-20T04:44:56.252667Z",
     "iopub.status.busy": "2023-03-20T04:44:56.252321Z",
     "iopub.status.idle": "2023-03-20T04:44:56.304604Z",
     "shell.execute_reply": "2023-03-20T04:44:56.303580Z"
    },
    "jupyter": {
     "outputs_hidden": false
    },
    "papermill": {
     "duration": 0.066468,
     "end_time": "2023-03-20T04:44:56.307137",
     "exception": false,
     "start_time": "2023-03-20T04:44:56.240669",
     "status": "completed"
    },
    "tags": []
   },
   "outputs": [],
   "source": [
    "comp_path = '/kaggle/input/cs190-winter23-deep-learning-mp1'\n",
    "train_df = pd.read_csv(os.path.join(comp_path, 'celeba_train.csv'))\n",
    "valid_df = pd.read_csv(os.path.join(comp_path, 'celeba_valid.csv'))"
   ]
  },
  {
   "cell_type": "code",
   "execution_count": 11,
   "id": "8f8300ab",
   "metadata": {
    "_cell_guid": "2174e7ec-b835-4204-a53a-3e246cc77637",
    "_uuid": "0f8a9ab1-c719-405c-a8c3-8b9b59cda85e",
    "collapsed": false,
    "execution": {
     "iopub.execute_input": "2023-03-20T04:44:56.328402Z",
     "iopub.status.busy": "2023-03-20T04:44:56.328074Z",
     "iopub.status.idle": "2023-03-20T04:44:56.340031Z",
     "shell.execute_reply": "2023-03-20T04:44:56.338995Z"
    },
    "jupyter": {
     "outputs_hidden": false
    },
    "papermill": {
     "duration": 0.024876,
     "end_time": "2023-03-20T04:44:56.342088",
     "exception": false,
     "start_time": "2023-03-20T04:44:56.317212",
     "status": "completed"
    },
    "tags": []
   },
   "outputs": [
    {
     "data": {
      "text/html": [
       "<div>\n",
       "<style scoped>\n",
       "    .dataframe tbody tr th:only-of-type {\n",
       "        vertical-align: middle;\n",
       "    }\n",
       "\n",
       "    .dataframe tbody tr th {\n",
       "        vertical-align: top;\n",
       "    }\n",
       "\n",
       "    .dataframe thead th {\n",
       "        text-align: right;\n",
       "    }\n",
       "</style>\n",
       "<table border=\"1\" class=\"dataframe\">\n",
       "  <thead>\n",
       "    <tr style=\"text-align: right;\">\n",
       "      <th></th>\n",
       "      <th>id</th>\n",
       "      <th>label</th>\n",
       "    </tr>\n",
       "  </thead>\n",
       "  <tbody>\n",
       "    <tr>\n",
       "      <th>0</th>\n",
       "      <td>124687.jpg</td>\n",
       "      <td>1</td>\n",
       "    </tr>\n",
       "    <tr>\n",
       "      <th>1</th>\n",
       "      <td>108662.jpg</td>\n",
       "      <td>1</td>\n",
       "    </tr>\n",
       "    <tr>\n",
       "      <th>2</th>\n",
       "      <td>120859.jpg</td>\n",
       "      <td>1</td>\n",
       "    </tr>\n",
       "    <tr>\n",
       "      <th>3</th>\n",
       "      <td>149895.jpg</td>\n",
       "      <td>1</td>\n",
       "    </tr>\n",
       "    <tr>\n",
       "      <th>4</th>\n",
       "      <td>057043.jpg</td>\n",
       "      <td>1</td>\n",
       "    </tr>\n",
       "    <tr>\n",
       "      <th>...</th>\n",
       "      <td>...</td>\n",
       "      <td>...</td>\n",
       "    </tr>\n",
       "    <tr>\n",
       "      <th>49995</th>\n",
       "      <td>146578.jpg</td>\n",
       "      <td>0</td>\n",
       "    </tr>\n",
       "    <tr>\n",
       "      <th>49996</th>\n",
       "      <td>038177.jpg</td>\n",
       "      <td>0</td>\n",
       "    </tr>\n",
       "    <tr>\n",
       "      <th>49997</th>\n",
       "      <td>097024.jpg</td>\n",
       "      <td>0</td>\n",
       "    </tr>\n",
       "    <tr>\n",
       "      <th>49998</th>\n",
       "      <td>106276.jpg</td>\n",
       "      <td>0</td>\n",
       "    </tr>\n",
       "    <tr>\n",
       "      <th>49999</th>\n",
       "      <td>106081.jpg</td>\n",
       "      <td>0</td>\n",
       "    </tr>\n",
       "  </tbody>\n",
       "</table>\n",
       "<p>50000 rows × 2 columns</p>\n",
       "</div>"
      ],
      "text/plain": [
       "               id  label\n",
       "0      124687.jpg      1\n",
       "1      108662.jpg      1\n",
       "2      120859.jpg      1\n",
       "3      149895.jpg      1\n",
       "4      057043.jpg      1\n",
       "...           ...    ...\n",
       "49995  146578.jpg      0\n",
       "49996  038177.jpg      0\n",
       "49997  097024.jpg      0\n",
       "49998  106276.jpg      0\n",
       "49999  106081.jpg      0\n",
       "\n",
       "[50000 rows x 2 columns]"
      ]
     },
     "execution_count": 11,
     "metadata": {},
     "output_type": "execute_result"
    }
   ],
   "source": [
    "train_df"
   ]
  },
  {
   "cell_type": "code",
   "execution_count": 12,
   "id": "c779a48e",
   "metadata": {
    "_cell_guid": "8f4b18fc-ceb4-4c8b-b69b-97d97a029272",
    "_uuid": "bb770980-f776-48ee-be34-e3f88c948c12",
    "collapsed": false,
    "execution": {
     "iopub.execute_input": "2023-03-20T04:44:56.364819Z",
     "iopub.status.busy": "2023-03-20T04:44:56.363322Z",
     "iopub.status.idle": "2023-03-20T04:44:56.374850Z",
     "shell.execute_reply": "2023-03-20T04:44:56.374001Z"
    },
    "jupyter": {
     "outputs_hidden": false
    },
    "papermill": {
     "duration": 0.024409,
     "end_time": "2023-03-20T04:44:56.376738",
     "exception": false,
     "start_time": "2023-03-20T04:44:56.352329",
     "status": "completed"
    },
    "tags": []
   },
   "outputs": [],
   "source": [
    "from torch.utils.data.dataset import Dataset\n",
    "import torchvision.transforms as transforms\n",
    "from PIL import Image\n",
    "\n",
    "class CelebADataset(Dataset):\n",
    "    \"\"\"\n",
    "        A customized dataset to load the CelebA image dataset.\n",
    "    \"\"\"\n",
    "    def __init__(self, img_path, imgs, labels, resize=None, inference=False):\n",
    "        \"\"\"\n",
    "            img_path: str, the directory of celeba dataset \n",
    "            imgs: List[str], the image file names\n",
    "            labels: List[int], the 0/1 label for each image\n",
    "            resize: None or int, whether downsample or upsample the image to certain size\n",
    "            inference: bool, True for the data without the label\n",
    "        \"\"\"\n",
    "        self.img_path = img_path\n",
    "        self.resize = resize\n",
    "        self.imgs = imgs\n",
    "        self.labels = labels\n",
    "        self.inference = inference\n",
    "        \n",
    "        # Center crop the alingned celeb dataset to 178x178 to include the face area \n",
    "        # and then downsample to 128x128 .\n",
    "        self.pre_process = transforms.Compose([\n",
    "                                            transforms.CenterCrop((178, 178)),\n",
    "                                            transforms.Resize((128,128)),\n",
    "                                            ])\n",
    "\n",
    "                          \n",
    "        # first transform the images to tensor format, then normalize the pixel values\n",
    "        self.totensor = transforms.Compose([\n",
    "                                    transforms.ToTensor(),\n",
    "                                    transforms.Normalize((0.5, 0.5, 0.5), (0.5, 0.5, 0.5)),\n",
    "                                    ])\n",
    "        \n",
    "        if resize is not None:\n",
    "            self.resampling = transforms.Resize((resize, resize))\n",
    "    \n",
    "    def __getitem__(self, index):\n",
    "        image_path = os.path.join(self.img_path, self.imgs[index])\n",
    "        img = Image.open(image_path).convert('RGB')\n",
    "        img = self.pre_process(img)\n",
    "        img_tensor = self.totensor(img)\n",
    "        if self.resize is not None:\n",
    "            img_tensor = self.resampling(img_tensor)\n",
    "        if not self.inference:\n",
    "            label = self.labels[index]\n",
    "            return img_tensor, label\n",
    "        else:\n",
    "            return img_tensor\n",
    "        \n",
    "    def __len__(self):\n",
    "        return len(self.imgs)"
   ]
  },
  {
   "cell_type": "code",
   "execution_count": 13,
   "id": "5c6b664b",
   "metadata": {
    "_cell_guid": "14c97243-3565-4f88-8a3f-2766f7d88454",
    "_uuid": "3d49f044-408b-4fb3-a79d-8293f7d07665",
    "collapsed": false,
    "execution": {
     "iopub.execute_input": "2023-03-20T04:44:56.399369Z",
     "iopub.status.busy": "2023-03-20T04:44:56.397891Z",
     "iopub.status.idle": "2023-03-20T04:44:56.406248Z",
     "shell.execute_reply": "2023-03-20T04:44:56.405142Z"
    },
    "jupyter": {
     "outputs_hidden": false
    },
    "papermill": {
     "duration": 0.021486,
     "end_time": "2023-03-20T04:44:56.408270",
     "exception": false,
     "start_time": "2023-03-20T04:44:56.386784",
     "status": "completed"
    },
    "tags": []
   },
   "outputs": [],
   "source": [
    "BATCH_SIZE = 64\n",
    "TEST_BATCH_SIZE = 1000\n",
    "\n",
    "# create the dataset\n",
    "train_ds = CelebADataset(images_folder, train_df['id'], train_df['label'])\n",
    "valid_ds = CelebADataset(images_folder, valid_df['id'], valid_df['label'])\n",
    "\n",
    "# build the dataloader\n",
    "train_loader = torch.utils.data.DataLoader(\n",
    "    train_ds, batch_size=BATCH_SIZE, shuffle=True\n",
    ")\n",
    "valid_loader = torch.utils.data.DataLoader(\n",
    "    valid_ds, batch_size=TEST_BATCH_SIZE\n",
    ")"
   ]
  },
  {
   "cell_type": "code",
   "execution_count": 14,
   "id": "f1ce8112",
   "metadata": {
    "_cell_guid": "349222ff-81d0-4a82-b7a3-89ce956dfe1e",
    "_uuid": "ca400797-02ed-4e20-9020-c0167fed5f17",
    "collapsed": false,
    "execution": {
     "iopub.execute_input": "2023-03-20T04:44:56.430486Z",
     "iopub.status.busy": "2023-03-20T04:44:56.429741Z",
     "iopub.status.idle": "2023-03-20T04:44:56.542057Z",
     "shell.execute_reply": "2023-03-20T04:44:56.541017Z"
    },
    "jupyter": {
     "outputs_hidden": false
    },
    "papermill": {
     "duration": 0.125591,
     "end_time": "2023-03-20T04:44:56.544319",
     "exception": false,
     "start_time": "2023-03-20T04:44:56.418728",
     "status": "completed"
    },
    "tags": []
   },
   "outputs": [
    {
     "data": {
      "text/plain": [
       "(torch.Size([3, 128, 128]), 1)"
      ]
     },
     "execution_count": 14,
     "metadata": {},
     "output_type": "execute_result"
    }
   ],
   "source": [
    "train_ds[0][0].size(), train_ds[0][1]"
   ]
  },
  {
   "cell_type": "markdown",
   "id": "17596f5c",
   "metadata": {
    "_cell_guid": "c0a1f5a5-8203-41a6-b57a-6a035bd373a0",
    "_uuid": "52466db4-fbe8-4c93-8177-bf0752cdddc8",
    "papermill": {
     "duration": 0.010188,
     "end_time": "2023-03-20T04:44:56.564989",
     "exception": false,
     "start_time": "2023-03-20T04:44:56.554801",
     "status": "completed"
    },
    "tags": []
   },
   "source": [
    "## 3. Define the training and validation loops \n",
    "\n",
    "For each epoch:\n",
    "1. Calculate the loss and the gradient on the training set. Use optimizer to update the parameters. \n",
    "2. Calculate the loss and accuracy on the validation set. Save the model when we get a better loss."
   ]
  },
  {
   "cell_type": "code",
   "execution_count": 15,
   "id": "d270e825",
   "metadata": {
    "_cell_guid": "984f832a-226a-4da9-bf54-82bd43f461a1",
    "_uuid": "f7aeaee9-44f6-49e3-881f-12e4b6501167",
    "collapsed": false,
    "execution": {
     "iopub.execute_input": "2023-03-20T04:44:56.586904Z",
     "iopub.status.busy": "2023-03-20T04:44:56.586582Z",
     "iopub.status.idle": "2023-03-20T04:44:56.604541Z",
     "shell.execute_reply": "2023-03-20T04:44:56.603445Z"
    },
    "jupyter": {
     "outputs_hidden": false
    },
    "papermill": {
     "duration": 0.031821,
     "end_time": "2023-03-20T04:44:56.606891",
     "exception": false,
     "start_time": "2023-03-20T04:44:56.575070",
     "status": "completed"
    },
    "tags": []
   },
   "outputs": [],
   "source": [
    "class Trainer(object):\n",
    "    \"\"\"\n",
    "        A learning pipeline to train and validate the model.\n",
    "    \"\"\"\n",
    "    def __init__(self, model, criterion, optimizer, max_epoch):\n",
    "        \"\"\"\n",
    "            model: nn model\n",
    "            criterion: loss function\n",
    "            optimizer: optimizer\n",
    "            max_epoch: maximum training epoch\n",
    "        \"\"\"\n",
    "        self.model = model.to(device)\n",
    "        self.criterion = criterion.to(device)\n",
    "        self.optimizer = optimizer\n",
    "        self.max_epoch = max_epoch\n",
    "        \n",
    "    def run(self,train_loader, valid_loader):\n",
    "        \"\"\"\n",
    "            Main entry\n",
    "                train_loader: training dataset, each item is (img, label)\n",
    "                valid_loader: validation dataset, each item is (img, label)\n",
    "        \"\"\"\n",
    "        # calculate the inital loss and accu on validation set\n",
    "        valid_best_loss = self.validate(-1, valid_loader, best_loss=None)\n",
    "        for epoch in range(self.max_epoch):\n",
    "            self.train(epoch, train_loader)\n",
    "            # save the checkpoint with the lowest validation loss\n",
    "            valid_best_loss = self.validate(epoch, valid_loader, valid_best_loss)\n",
    "        \n",
    "    def train(self, epoch, loader):\n",
    "        \"\"\"\n",
    "            Single training loop\n",
    "                epoch: int, current epoch index\n",
    "                loader: training loader\n",
    "        \"\"\"\n",
    "        # switch to the train mode, calculate the gradient\n",
    "        self.model.train()\n",
    "        running_loss, total, correct = 0.0, 0, 0\n",
    "        with tqdm(enumerate(loader, 0), mininterval=10) as tepoch:\n",
    "            for i, data in tepoch:\n",
    "                # get the inputs; data is a list of [inputs, labels]\n",
    "                # inputs: tensor, (batch_size, image_size, image_size)\n",
    "                # labels: tensor, (batch_size, 1)\n",
    "                inputs, labels = data\n",
    "                inputs, labels = inputs.to(device), labels.to(device)\n",
    "                \n",
    "                ########################################################\n",
    "                # TODO: replace the outputs and loss and update optimizer\n",
    "                # 1. zero the parameter gradients\n",
    "                # 2. forward + backward\n",
    "                # 3. update the parameters\n",
    "                self.optimizer.zero_grad()\n",
    "                outputs = model(inputs)\n",
    "                criterion = nn.CrossEntropyLoss()\n",
    "                loss = criterion(outputs, labels)\n",
    "                loss.backward()\n",
    "                self.optimizer.step()\n",
    "                \n",
    "                #outputs = None\n",
    "                #loss = None\n",
    "                ########################################################\n",
    "                \n",
    "                # calculate the metric\n",
    "                match, number = self.cal_metric(outputs.data, labels)\n",
    "                \n",
    "                # gather statistics\n",
    "                total += number\n",
    "                correct += match\n",
    "                running_loss += loss.item()\n",
    "                tepoch.set_postfix(loss=loss.item(), accuracy=100. * correct / total)\n",
    "\n",
    "        running_loss /= len(loader)\n",
    "\n",
    "        print('Training | Epoch: {}| Loss: {:.3f} | Accuracy on train images: {:.1f}'.format \\\n",
    "              (epoch+1, running_loss, 100 * correct / total))\n",
    "        \n",
    "    def validate(self, epoch, loader, best_loss=None):\n",
    "        \"\"\"\n",
    "            Single evaluation loop\n",
    "                epoch: int, current epoch index\n",
    "                loader: validation loader\n",
    "                best_loss: float, current best loss\n",
    "        \"\"\"\n",
    "        # switch to the evaluation mode, do not need to calculate the gradient\n",
    "        self.model.eval()\n",
    "        running_loss, total, correct = 0.0, 0, 0\n",
    "        for i, data in tqdm(enumerate(loader)):\n",
    "            inputs, labels = data\n",
    "            inputs, labels = inputs.to(device), labels.to(device)\n",
    "            \n",
    "            ########################################################\n",
    "            # TODO: replace the outputs and loss\n",
    "            self.optimizer.zero_grad()\n",
    "            outputs = model(inputs)\n",
    "            criterion = nn.CrossEntropyLoss()\n",
    "            loss = criterion(outputs, labels)\n",
    "            loss.backward()\n",
    "            self.optimizer.step()\n",
    "            #outputs = None\n",
    "            #loss = None\n",
    "            ########################################################\n",
    "\n",
    "            # calculate the metric\n",
    "            match, number = self.cal_metric(outputs.data, labels)\n",
    "            \n",
    "            # gather statistics\n",
    "            total += number\n",
    "            correct += match\n",
    "            running_loss += loss.item()\n",
    "\n",
    "        running_loss /= len(loader)\n",
    "\n",
    "        if best_loss is None or running_loss < best_loss:\n",
    "            # if a better loss appears, save the checkpoint\n",
    "            save_file = 'best_epoch{}_loss{:.2f}_accu{:.2f}.pt'.format(epoch+1, running_loss, 100 * correct / total)\n",
    "            print('Save to file: ', save_file)\n",
    "            torch.save(self.model, save_file)\n",
    "            \n",
    "            # overwrite the best_checkpoint.pt file\n",
    "            torch.save(self.model, 'best_checkpoint.pt')\n",
    "            \n",
    "            best_loss = running_loss\n",
    "\n",
    "        print('Validation | Epoch: {}| Loss: {:.3f} | Accuracy on val images: {:.1f}'.format \\\n",
    "              (epoch+1, running_loss,100 * correct / total))\n",
    "\n",
    "        return best_loss\n",
    "\n",
    "                \n",
    "    def cal_metric(self, outputs, labels):\n",
    "        \"\"\"\n",
    "            Calculate the accuracy\n",
    "                outputs: tensor (batch_size, number_class), the output of the model\n",
    "                labels: tensor (batch_size, 1), the ground truth\n",
    "        \"\"\"\n",
    "        # compare predictions to ground truth\n",
    "        _, predicted = torch.max(outputs, 1)\n",
    "        number = labels.size(0)\n",
    "        correct = (predicted == labels).sum().item()\n",
    "        return correct, number"
   ]
  },
  {
   "cell_type": "markdown",
   "id": "aedad57e",
   "metadata": {
    "_cell_guid": "71085132-e8a8-40d1-8439-b73ec2aab3c8",
    "_uuid": "aa6ba21d-92ab-4fb6-9428-26b6b201e55f",
    "papermill": {
     "duration": 0.009754,
     "end_time": "2023-03-20T04:44:56.626399",
     "exception": false,
     "start_time": "2023-03-20T04:44:56.616645",
     "status": "completed"
    },
    "tags": []
   },
   "source": [
    "## 4. Define the Model Structure"
   ]
  },
  {
   "cell_type": "code",
   "execution_count": 16,
   "id": "3b4f6e6b",
   "metadata": {
    "execution": {
     "iopub.execute_input": "2023-03-20T04:44:56.647339Z",
     "iopub.status.busy": "2023-03-20T04:44:56.647052Z",
     "iopub.status.idle": "2023-03-20T04:44:56.652827Z",
     "shell.execute_reply": "2023-03-20T04:44:56.651915Z"
    },
    "papermill": {
     "duration": 0.018557,
     "end_time": "2023-03-20T04:44:56.654789",
     "exception": false,
     "start_time": "2023-03-20T04:44:56.636232",
     "status": "completed"
    },
    "tags": []
   },
   "outputs": [],
   "source": [
    "class MLP(nn.Module):\n",
    "    \"\"\"\n",
    "        Multilayer perceptron network\n",
    "    \"\"\"\n",
    "    def __init__(self):\n",
    "        super().__init__()\n",
    "        self.layers = nn.Sequential(\n",
    "            nn.Linear(3*128*128, 2)\n",
    "        )\n",
    "        \n",
    "    def forward(self, x):\n",
    "        x = torch.flatten(x, 1)\n",
    "        x = self.layers(x)\n",
    "        # F.log_softmax returns the log probabilities of each class\n",
    "        # of shape (num_samples, num_classes)\n",
    "        return F.log_softmax(x, dim=1)"
   ]
  },
  {
   "cell_type": "code",
   "execution_count": 17,
   "id": "365268f8",
   "metadata": {
    "_cell_guid": "b29a2300-fd48-46f7-91d9-987c1f669140",
    "_uuid": "f8dd6d28-80d5-4ee4-8984-5dbd62700db0",
    "collapsed": false,
    "execution": {
     "iopub.execute_input": "2023-03-20T04:44:56.675520Z",
     "iopub.status.busy": "2023-03-20T04:44:56.675247Z",
     "iopub.status.idle": "2023-03-20T04:44:56.684397Z",
     "shell.execute_reply": "2023-03-20T04:44:56.683515Z"
    },
    "jupyter": {
     "outputs_hidden": false
    },
    "papermill": {
     "duration": 0.021857,
     "end_time": "2023-03-20T04:44:56.686258",
     "exception": false,
     "start_time": "2023-03-20T04:44:56.664401",
     "status": "completed"
    },
    "tags": []
   },
   "outputs": [],
   "source": [
    "class LeNet(nn.Module):\n",
    "    \"\"\"\n",
    "        LeNet architecture\n",
    "    \"\"\"\n",
    "    def __init__(self):\n",
    "        super().__init__()\n",
    "        # 3 input image channel, 6 output channels, 5x5 square convolution\n",
    "        self.conv1 = torch.nn.Conv2d(3, 6, kernel_size = 5)\n",
    "        self.conv2 = torch.nn.Conv2d(6, 16, kernel_size = 5)\n",
    "        self.pool = nn.MaxPool2d(kernel_size = 2, stride = 2)\n",
    "        \n",
    "        ########################################################\n",
    "        # TODO: replace the input_size\n",
    "        # figure out the input dimension of the first linear layer\n",
    "        self.fc1 = torch.nn.Linear(3 * 64 * 64, 120)\n",
    "        #(128 + 2(1 - 5))/2) + 1(4)\n",
    "        ########################################################\n",
    "        \n",
    "        self.fc2 = torch.nn.Linear(120, 84)\n",
    "        self.fc3 = torch.nn.Linear(84, 2)\n",
    "\n",
    "    def forward(self, x):\n",
    "        \n",
    "        ########################################################\n",
    "        # TODO: organize the forward pass\n",
    "        # Hint: \n",
    "        #     1. check the LeNet link above if you are not familiar with it\n",
    "        #     2. do not forget the activation function F.relu() \n",
    "        #     3. you may want to use torch.flatten() before the full connection layer\n",
    "        #     4. be careful with the dimension\n",
    "        ########################################################\n",
    "        x = self.pool(F.relu(self.conv1(x)))\n",
    "        x = self.pool(F.relu(self.conv2(x)))\n",
    "        x = x.view(-1, 16 * 5 * 5)\n",
    "        x = F.relu(self.fc1(x))\n",
    "        x = F.relu(self.fc2(x))\n",
    "        x = self.fc3(x)\n",
    "        \n",
    "        return x"
   ]
  },
  {
   "cell_type": "code",
   "execution_count": 18,
   "id": "357ed73f",
   "metadata": {
    "_cell_guid": "9edcb20e-076b-413c-a207-8bc2023b41a2",
    "_uuid": "49aa3242-e09f-43b3-9aec-bff2851613df",
    "collapsed": false,
    "execution": {
     "iopub.execute_input": "2023-03-20T04:44:56.708573Z",
     "iopub.status.busy": "2023-03-20T04:44:56.708213Z",
     "iopub.status.idle": "2023-03-20T04:44:57.984440Z",
     "shell.execute_reply": "2023-03-20T04:44:57.981985Z"
    },
    "jupyter": {
     "outputs_hidden": false
    },
    "papermill": {
     "duration": 1.289801,
     "end_time": "2023-03-20T04:44:57.986602",
     "exception": false,
     "start_time": "2023-03-20T04:44:56.696801",
     "status": "completed"
    },
    "tags": []
   },
   "outputs": [
    {
     "name": "stderr",
     "output_type": "stream",
     "text": [
      "Downloading: \"https://github.com/pytorch/vision/zipball/v0.10.0\" to /root/.cache/torch/hub/v0.10.0.zip\n",
      "/opt/conda/lib/python3.7/site-packages/torchvision/models/_utils.py:209: UserWarning: The parameter 'pretrained' is deprecated since 0.13 and will be removed in 0.15, please use 'weights' instead.\n",
      "  f\"The parameter '{pretrained_param}' is deprecated since 0.13 and will be removed in 0.15, \"\n",
      "/opt/conda/lib/python3.7/site-packages/torchvision/models/_utils.py:223: UserWarning: Arguments other than a weight enum or `None` for 'weights' are deprecated since 0.13 and will be removed in 0.15. The current behavior is equivalent to passing `weights=SqueezeNet1_0_Weights.IMAGENET1K_V1`. You can also use `weights=SqueezeNet1_0_Weights.DEFAULT` to get the most up-to-date weights.\n",
      "  warnings.warn(msg)\n",
      "Downloading: \"https://download.pytorch.org/models/squeezenet1_0-b66bff10.pth\" to /root/.cache/torch/hub/checkpoints/squeezenet1_0-b66bff10.pth\n"
     ]
    },
    {
     "data": {
      "application/vnd.jupyter.widget-view+json": {
       "model_id": "f145a2d206d1489d903d8e4ed023e101",
       "version_major": 2,
       "version_minor": 0
      },
      "text/plain": [
       "  0%|          | 0.00/4.78M [00:00<?, ?B/s]"
      ]
     },
     "metadata": {},
     "output_type": "display_data"
    },
    {
     "name": "stdout",
     "output_type": "stream",
     "text": [
      "SqueezeNet(\n",
      "  (features): Sequential(\n",
      "    (0): Conv2d(3, 96, kernel_size=(7, 7), stride=(2, 2))\n",
      "    (1): ReLU(inplace=True)\n",
      "    (2): MaxPool2d(kernel_size=3, stride=2, padding=0, dilation=1, ceil_mode=True)\n",
      "    (3): Fire(\n",
      "      (squeeze): Conv2d(96, 16, kernel_size=(1, 1), stride=(1, 1))\n",
      "      (squeeze_activation): ReLU(inplace=True)\n",
      "      (expand1x1): Conv2d(16, 64, kernel_size=(1, 1), stride=(1, 1))\n",
      "      (expand1x1_activation): ReLU(inplace=True)\n",
      "      (expand3x3): Conv2d(16, 64, kernel_size=(3, 3), stride=(1, 1), padding=(1, 1))\n",
      "      (expand3x3_activation): ReLU(inplace=True)\n",
      "    )\n",
      "    (4): Fire(\n",
      "      (squeeze): Conv2d(128, 16, kernel_size=(1, 1), stride=(1, 1))\n",
      "      (squeeze_activation): ReLU(inplace=True)\n",
      "      (expand1x1): Conv2d(16, 64, kernel_size=(1, 1), stride=(1, 1))\n",
      "      (expand1x1_activation): ReLU(inplace=True)\n",
      "      (expand3x3): Conv2d(16, 64, kernel_size=(3, 3), stride=(1, 1), padding=(1, 1))\n",
      "      (expand3x3_activation): ReLU(inplace=True)\n",
      "    )\n",
      "    (5): Fire(\n",
      "      (squeeze): Conv2d(128, 32, kernel_size=(1, 1), stride=(1, 1))\n",
      "      (squeeze_activation): ReLU(inplace=True)\n",
      "      (expand1x1): Conv2d(32, 128, kernel_size=(1, 1), stride=(1, 1))\n",
      "      (expand1x1_activation): ReLU(inplace=True)\n",
      "      (expand3x3): Conv2d(32, 128, kernel_size=(3, 3), stride=(1, 1), padding=(1, 1))\n",
      "      (expand3x3_activation): ReLU(inplace=True)\n",
      "    )\n",
      "    (6): MaxPool2d(kernel_size=3, stride=2, padding=0, dilation=1, ceil_mode=True)\n",
      "    (7): Fire(\n",
      "      (squeeze): Conv2d(256, 32, kernel_size=(1, 1), stride=(1, 1))\n",
      "      (squeeze_activation): ReLU(inplace=True)\n",
      "      (expand1x1): Conv2d(32, 128, kernel_size=(1, 1), stride=(1, 1))\n",
      "      (expand1x1_activation): ReLU(inplace=True)\n",
      "      (expand3x3): Conv2d(32, 128, kernel_size=(3, 3), stride=(1, 1), padding=(1, 1))\n",
      "      (expand3x3_activation): ReLU(inplace=True)\n",
      "    )\n",
      "    (8): Fire(\n",
      "      (squeeze): Conv2d(256, 48, kernel_size=(1, 1), stride=(1, 1))\n",
      "      (squeeze_activation): ReLU(inplace=True)\n",
      "      (expand1x1): Conv2d(48, 192, kernel_size=(1, 1), stride=(1, 1))\n",
      "      (expand1x1_activation): ReLU(inplace=True)\n",
      "      (expand3x3): Conv2d(48, 192, kernel_size=(3, 3), stride=(1, 1), padding=(1, 1))\n",
      "      (expand3x3_activation): ReLU(inplace=True)\n",
      "    )\n",
      "    (9): Fire(\n",
      "      (squeeze): Conv2d(384, 48, kernel_size=(1, 1), stride=(1, 1))\n",
      "      (squeeze_activation): ReLU(inplace=True)\n",
      "      (expand1x1): Conv2d(48, 192, kernel_size=(1, 1), stride=(1, 1))\n",
      "      (expand1x1_activation): ReLU(inplace=True)\n",
      "      (expand3x3): Conv2d(48, 192, kernel_size=(3, 3), stride=(1, 1), padding=(1, 1))\n",
      "      (expand3x3_activation): ReLU(inplace=True)\n",
      "    )\n",
      "    (10): Fire(\n",
      "      (squeeze): Conv2d(384, 64, kernel_size=(1, 1), stride=(1, 1))\n",
      "      (squeeze_activation): ReLU(inplace=True)\n",
      "      (expand1x1): Conv2d(64, 256, kernel_size=(1, 1), stride=(1, 1))\n",
      "      (expand1x1_activation): ReLU(inplace=True)\n",
      "      (expand3x3): Conv2d(64, 256, kernel_size=(3, 3), stride=(1, 1), padding=(1, 1))\n",
      "      (expand3x3_activation): ReLU(inplace=True)\n",
      "    )\n",
      "    (11): MaxPool2d(kernel_size=3, stride=2, padding=0, dilation=1, ceil_mode=True)\n",
      "    (12): Fire(\n",
      "      (squeeze): Conv2d(512, 64, kernel_size=(1, 1), stride=(1, 1))\n",
      "      (squeeze_activation): ReLU(inplace=True)\n",
      "      (expand1x1): Conv2d(64, 256, kernel_size=(1, 1), stride=(1, 1))\n",
      "      (expand1x1_activation): ReLU(inplace=True)\n",
      "      (expand3x3): Conv2d(64, 256, kernel_size=(3, 3), stride=(1, 1), padding=(1, 1))\n",
      "      (expand3x3_activation): ReLU(inplace=True)\n",
      "    )\n",
      "  )\n",
      "  (classifier): Sequential(\n",
      "    (0): Dropout(p=0.5, inplace=False)\n",
      "    (1): Conv2d(512, 1000, kernel_size=(1, 1), stride=(1, 1))\n",
      "    (2): ReLU(inplace=True)\n",
      "    (3): AdaptiveAvgPool2d(output_size=(1, 1))\n",
      "  )\n",
      ")\n",
      "Model Parameters  1248424\n",
      "Trainable Parameters  1248424\n"
     ]
    }
   ],
   "source": [
    "# Here we use the MLP model as the baseline. You can change it to whatever model you like\n",
    "model = torch.hub.load('pytorch/vision:v0.10.0', 'squeezenet1_0', pretrained=True)\n",
    "print(model)\n",
    "print('Model Parameters ', sum(p.numel() for p in model.parameters()))\n",
    "print('Trainable Parameters ', sum(p.numel() for p in model.parameters() if p.requires_grad))"
   ]
  },
  {
   "cell_type": "markdown",
   "id": "916d5734",
   "metadata": {
    "_cell_guid": "2af67abb-4a34-40b7-b6c1-a7856287c730",
    "_uuid": "ebe57617-2ada-4f6e-a3ce-aa028dfc4e5b",
    "papermill": {
     "duration": 0.010205,
     "end_time": "2023-03-20T04:44:58.007568",
     "exception": false,
     "start_time": "2023-03-20T04:44:57.997363",
     "status": "completed"
    },
    "tags": []
   },
   "source": [
    "## 5. Training\n"
   ]
  },
  {
   "cell_type": "code",
   "execution_count": 19,
   "id": "eae5573c",
   "metadata": {
    "_cell_guid": "f972cdb4-3299-4551-845c-752c0154aefc",
    "_uuid": "e9d808c0-8557-402e-b52a-dc5b2fd5ec40",
    "collapsed": false,
    "execution": {
     "iopub.execute_input": "2023-03-20T04:44:58.030399Z",
     "iopub.status.busy": "2023-03-20T04:44:58.029402Z",
     "iopub.status.idle": "2023-03-20T04:45:02.936782Z",
     "shell.execute_reply": "2023-03-20T04:45:02.935816Z"
    },
    "jupyter": {
     "outputs_hidden": false
    },
    "papermill": {
     "duration": 4.921452,
     "end_time": "2023-03-20T04:45:02.939537",
     "exception": false,
     "start_time": "2023-03-20T04:44:58.018085",
     "status": "completed"
    },
    "tags": []
   },
   "outputs": [],
   "source": [
    "import torch.optim as optim\n",
    "\n",
    "NUM_EPOCH = 20\n",
    "LEARNING_RATE = 0.001\n",
    "\n",
    "criterion = nn.CrossEntropyLoss()\n",
    "optimizer = optim.SGD(model.parameters(), lr=LEARNING_RATE, momentum=0.9)\n",
    "#optimizer = optim.Adam(model.parameters(), lr=0.001, betas=(0.9, 0.999), eps=1e-08, weight_decay=0)\n",
    "trainer = Trainer(model, criterion, optimizer, max_epoch=NUM_EPOCH)"
   ]
  },
  {
   "cell_type": "code",
   "execution_count": 20,
   "id": "8b70a3a9",
   "metadata": {
    "_cell_guid": "ccf90c65-f623-4643-add3-2d361d56af1e",
    "_uuid": "277b40fe-917d-4186-b216-f71f7e0088af",
    "collapsed": false,
    "execution": {
     "iopub.execute_input": "2023-03-20T04:45:02.963183Z",
     "iopub.status.busy": "2023-03-20T04:45:02.962318Z",
     "iopub.status.idle": "2023-03-20T05:51:19.537512Z",
     "shell.execute_reply": "2023-03-20T05:51:19.535774Z"
    },
    "jupyter": {
     "outputs_hidden": false
    },
    "papermill": {
     "duration": 3976.589748,
     "end_time": "2023-03-20T05:51:19.540189",
     "exception": false,
     "start_time": "2023-03-20T04:45:02.950441",
     "status": "completed"
    },
    "tags": []
   },
   "outputs": [
    {
     "name": "stderr",
     "output_type": "stream",
     "text": [
      "2it [00:21, 10.63s/it]\n"
     ]
    },
    {
     "name": "stdout",
     "output_type": "stream",
     "text": [
      "Save to file:  best_epoch0_loss12.00_accu1.05.pt\n",
      "Validation | Epoch: 0| Loss: 12.004 | Accuracy on val images: 1.1\n"
     ]
    },
    {
     "name": "stderr",
     "output_type": "stream",
     "text": [
      "782it [06:32,  1.99it/s, accuracy=79, loss=0.129]\n"
     ]
    },
    {
     "name": "stdout",
     "output_type": "stream",
     "text": [
      "Training | Epoch: 1| Loss: 0.428 | Accuracy on train images: 79.0\n"
     ]
    },
    {
     "name": "stderr",
     "output_type": "stream",
     "text": [
      "2it [00:07,  3.58s/it]\n"
     ]
    },
    {
     "name": "stdout",
     "output_type": "stream",
     "text": [
      "Save to file:  best_epoch1_loss0.29_accu87.65.pt\n",
      "Validation | Epoch: 1| Loss: 0.292 | Accuracy on val images: 87.7\n"
     ]
    },
    {
     "name": "stderr",
     "output_type": "stream",
     "text": [
      "782it [03:00,  4.33it/s, accuracy=90.6, loss=0.333]\n"
     ]
    },
    {
     "name": "stdout",
     "output_type": "stream",
     "text": [
      "Training | Epoch: 2| Loss: 0.229 | Accuracy on train images: 90.6\n"
     ]
    },
    {
     "name": "stderr",
     "output_type": "stream",
     "text": [
      "2it [00:07,  3.72s/it]\n"
     ]
    },
    {
     "name": "stdout",
     "output_type": "stream",
     "text": [
      "Save to file:  best_epoch2_loss0.25_accu89.45.pt\n",
      "Validation | Epoch: 2| Loss: 0.248 | Accuracy on val images: 89.5\n"
     ]
    },
    {
     "name": "stderr",
     "output_type": "stream",
     "text": [
      "782it [02:58,  4.38it/s, accuracy=91.5, loss=0.463]\n"
     ]
    },
    {
     "name": "stdout",
     "output_type": "stream",
     "text": [
      "Training | Epoch: 3| Loss: 0.207 | Accuracy on train images: 91.5\n"
     ]
    },
    {
     "name": "stderr",
     "output_type": "stream",
     "text": [
      "2it [00:07,  3.74s/it]\n"
     ]
    },
    {
     "name": "stdout",
     "output_type": "stream",
     "text": [
      "Save to file:  best_epoch3_loss0.20_accu91.30.pt\n",
      "Validation | Epoch: 3| Loss: 0.204 | Accuracy on val images: 91.3\n"
     ]
    },
    {
     "name": "stderr",
     "output_type": "stream",
     "text": [
      "782it [02:58,  4.39it/s, accuracy=91.9, loss=0.28]\n"
     ]
    },
    {
     "name": "stdout",
     "output_type": "stream",
     "text": [
      "Training | Epoch: 4| Loss: 0.195 | Accuracy on train images: 91.9\n"
     ]
    },
    {
     "name": "stderr",
     "output_type": "stream",
     "text": [
      "2it [00:07,  3.55s/it]\n"
     ]
    },
    {
     "name": "stdout",
     "output_type": "stream",
     "text": [
      "Save to file:  best_epoch4_loss0.20_accu91.10.pt\n",
      "Validation | Epoch: 4| Loss: 0.202 | Accuracy on val images: 91.1\n"
     ]
    },
    {
     "name": "stderr",
     "output_type": "stream",
     "text": [
      "782it [02:59,  4.34it/s, accuracy=92.4, loss=0.0335]\n"
     ]
    },
    {
     "name": "stdout",
     "output_type": "stream",
     "text": [
      "Training | Epoch: 5| Loss: 0.184 | Accuracy on train images: 92.4\n"
     ]
    },
    {
     "name": "stderr",
     "output_type": "stream",
     "text": [
      "2it [00:07,  3.91s/it]\n"
     ]
    },
    {
     "name": "stdout",
     "output_type": "stream",
     "text": [
      "Validation | Epoch: 5| Loss: 0.224 | Accuracy on val images: 90.5\n"
     ]
    },
    {
     "name": "stderr",
     "output_type": "stream",
     "text": [
      "782it [03:00,  4.34it/s, accuracy=92.4, loss=0.127]\n"
     ]
    },
    {
     "name": "stdout",
     "output_type": "stream",
     "text": [
      "Training | Epoch: 6| Loss: 0.183 | Accuracy on train images: 92.4\n"
     ]
    },
    {
     "name": "stderr",
     "output_type": "stream",
     "text": [
      "2it [00:07,  3.72s/it]\n"
     ]
    },
    {
     "name": "stdout",
     "output_type": "stream",
     "text": [
      "Validation | Epoch: 6| Loss: 0.210 | Accuracy on val images: 91.0\n"
     ]
    },
    {
     "name": "stderr",
     "output_type": "stream",
     "text": [
      "782it [02:59,  4.36it/s, accuracy=92.8, loss=0.343]\n"
     ]
    },
    {
     "name": "stdout",
     "output_type": "stream",
     "text": [
      "Training | Epoch: 7| Loss: 0.176 | Accuracy on train images: 92.8\n"
     ]
    },
    {
     "name": "stderr",
     "output_type": "stream",
     "text": [
      "2it [00:07,  3.75s/it]\n"
     ]
    },
    {
     "name": "stdout",
     "output_type": "stream",
     "text": [
      "Save to file:  best_epoch7_loss0.20_accu91.70.pt\n",
      "Validation | Epoch: 7| Loss: 0.201 | Accuracy on val images: 91.7\n"
     ]
    },
    {
     "name": "stderr",
     "output_type": "stream",
     "text": [
      "782it [02:59,  4.36it/s, accuracy=92.8, loss=0.0286]\n"
     ]
    },
    {
     "name": "stdout",
     "output_type": "stream",
     "text": [
      "Training | Epoch: 8| Loss: 0.174 | Accuracy on train images: 92.8\n"
     ]
    },
    {
     "name": "stderr",
     "output_type": "stream",
     "text": [
      "2it [00:07,  3.56s/it]\n"
     ]
    },
    {
     "name": "stdout",
     "output_type": "stream",
     "text": [
      "Save to file:  best_epoch8_loss0.20_accu91.55.pt\n",
      "Validation | Epoch: 8| Loss: 0.199 | Accuracy on val images: 91.5\n"
     ]
    },
    {
     "name": "stderr",
     "output_type": "stream",
     "text": [
      "782it [02:58,  4.37it/s, accuracy=93, loss=0.152]\n"
     ]
    },
    {
     "name": "stdout",
     "output_type": "stream",
     "text": [
      "Training | Epoch: 9| Loss: 0.169 | Accuracy on train images: 93.0\n"
     ]
    },
    {
     "name": "stderr",
     "output_type": "stream",
     "text": [
      "2it [00:07,  3.52s/it]\n"
     ]
    },
    {
     "name": "stdout",
     "output_type": "stream",
     "text": [
      "Save to file:  best_epoch9_loss0.20_accu92.10.pt\n",
      "Validation | Epoch: 9| Loss: 0.195 | Accuracy on val images: 92.1\n"
     ]
    },
    {
     "name": "stderr",
     "output_type": "stream",
     "text": [
      "782it [03:00,  4.33it/s, accuracy=93.1, loss=0.128]\n"
     ]
    },
    {
     "name": "stdout",
     "output_type": "stream",
     "text": [
      "Training | Epoch: 10| Loss: 0.166 | Accuracy on train images: 93.1\n"
     ]
    },
    {
     "name": "stderr",
     "output_type": "stream",
     "text": [
      "2it [00:07,  3.61s/it]\n"
     ]
    },
    {
     "name": "stdout",
     "output_type": "stream",
     "text": [
      "Save to file:  best_epoch10_loss0.18_accu92.80.pt\n",
      "Validation | Epoch: 10| Loss: 0.182 | Accuracy on val images: 92.8\n"
     ]
    },
    {
     "name": "stderr",
     "output_type": "stream",
     "text": [
      "782it [02:59,  4.35it/s, accuracy=93.3, loss=0.146]\n"
     ]
    },
    {
     "name": "stdout",
     "output_type": "stream",
     "text": [
      "Training | Epoch: 11| Loss: 0.163 | Accuracy on train images: 93.3\n"
     ]
    },
    {
     "name": "stderr",
     "output_type": "stream",
     "text": [
      "2it [00:07,  3.60s/it]\n"
     ]
    },
    {
     "name": "stdout",
     "output_type": "stream",
     "text": [
      "Validation | Epoch: 11| Loss: 0.197 | Accuracy on val images: 91.8\n"
     ]
    },
    {
     "name": "stderr",
     "output_type": "stream",
     "text": [
      "782it [02:59,  4.35it/s, accuracy=93.4, loss=0.299]\n"
     ]
    },
    {
     "name": "stdout",
     "output_type": "stream",
     "text": [
      "Training | Epoch: 12| Loss: 0.160 | Accuracy on train images: 93.4\n"
     ]
    },
    {
     "name": "stderr",
     "output_type": "stream",
     "text": [
      "2it [00:07,  3.54s/it]\n"
     ]
    },
    {
     "name": "stdout",
     "output_type": "stream",
     "text": [
      "Validation | Epoch: 12| Loss: 0.207 | Accuracy on val images: 91.2\n"
     ]
    },
    {
     "name": "stderr",
     "output_type": "stream",
     "text": [
      "782it [03:01,  4.31it/s, accuracy=93.5, loss=0.117]\n"
     ]
    },
    {
     "name": "stdout",
     "output_type": "stream",
     "text": [
      "Training | Epoch: 13| Loss: 0.157 | Accuracy on train images: 93.5\n"
     ]
    },
    {
     "name": "stderr",
     "output_type": "stream",
     "text": [
      "2it [00:07,  3.62s/it]\n"
     ]
    },
    {
     "name": "stdout",
     "output_type": "stream",
     "text": [
      "Validation | Epoch: 13| Loss: 0.194 | Accuracy on val images: 91.9\n"
     ]
    },
    {
     "name": "stderr",
     "output_type": "stream",
     "text": [
      "782it [03:01,  4.31it/s, accuracy=93.6, loss=0.0589]\n"
     ]
    },
    {
     "name": "stdout",
     "output_type": "stream",
     "text": [
      "Training | Epoch: 14| Loss: 0.154 | Accuracy on train images: 93.6\n"
     ]
    },
    {
     "name": "stderr",
     "output_type": "stream",
     "text": [
      "2it [00:07,  3.67s/it]\n"
     ]
    },
    {
     "name": "stdout",
     "output_type": "stream",
     "text": [
      "Validation | Epoch: 14| Loss: 0.186 | Accuracy on val images: 92.2\n"
     ]
    },
    {
     "name": "stderr",
     "output_type": "stream",
     "text": [
      "782it [03:02,  4.28it/s, accuracy=93.7, loss=0.143]\n"
     ]
    },
    {
     "name": "stdout",
     "output_type": "stream",
     "text": [
      "Training | Epoch: 15| Loss: 0.151 | Accuracy on train images: 93.7\n"
     ]
    },
    {
     "name": "stderr",
     "output_type": "stream",
     "text": [
      "2it [00:07,  3.57s/it]\n"
     ]
    },
    {
     "name": "stdout",
     "output_type": "stream",
     "text": [
      "Save to file:  best_epoch15_loss0.17_accu92.90.pt\n",
      "Validation | Epoch: 15| Loss: 0.169 | Accuracy on val images: 92.9\n"
     ]
    },
    {
     "name": "stderr",
     "output_type": "stream",
     "text": [
      "782it [02:58,  4.37it/s, accuracy=93.9, loss=0.368]\n"
     ]
    },
    {
     "name": "stdout",
     "output_type": "stream",
     "text": [
      "Training | Epoch: 16| Loss: 0.147 | Accuracy on train images: 93.9\n"
     ]
    },
    {
     "name": "stderr",
     "output_type": "stream",
     "text": [
      "2it [00:07,  3.54s/it]\n"
     ]
    },
    {
     "name": "stdout",
     "output_type": "stream",
     "text": [
      "Validation | Epoch: 16| Loss: 0.200 | Accuracy on val images: 91.6\n"
     ]
    },
    {
     "name": "stderr",
     "output_type": "stream",
     "text": [
      "782it [02:59,  4.36it/s, accuracy=93.9, loss=0.313]\n"
     ]
    },
    {
     "name": "stdout",
     "output_type": "stream",
     "text": [
      "Training | Epoch: 17| Loss: 0.146 | Accuracy on train images: 93.9\n"
     ]
    },
    {
     "name": "stderr",
     "output_type": "stream",
     "text": [
      "2it [00:07,  3.53s/it]\n"
     ]
    },
    {
     "name": "stdout",
     "output_type": "stream",
     "text": [
      "Validation | Epoch: 17| Loss: 0.181 | Accuracy on val images: 92.5\n"
     ]
    },
    {
     "name": "stderr",
     "output_type": "stream",
     "text": [
      "782it [02:59,  4.36it/s, accuracy=94.2, loss=0.126]\n"
     ]
    },
    {
     "name": "stdout",
     "output_type": "stream",
     "text": [
      "Training | Epoch: 18| Loss: 0.141 | Accuracy on train images: 94.2\n"
     ]
    },
    {
     "name": "stderr",
     "output_type": "stream",
     "text": [
      "2it [00:07,  3.58s/it]\n"
     ]
    },
    {
     "name": "stdout",
     "output_type": "stream",
     "text": [
      "Validation | Epoch: 18| Loss: 0.184 | Accuracy on val images: 92.0\n"
     ]
    },
    {
     "name": "stderr",
     "output_type": "stream",
     "text": [
      "782it [02:59,  4.36it/s, accuracy=94.3, loss=0.157]\n"
     ]
    },
    {
     "name": "stdout",
     "output_type": "stream",
     "text": [
      "Training | Epoch: 19| Loss: 0.138 | Accuracy on train images: 94.3\n"
     ]
    },
    {
     "name": "stderr",
     "output_type": "stream",
     "text": [
      "2it [00:07,  3.59s/it]\n"
     ]
    },
    {
     "name": "stdout",
     "output_type": "stream",
     "text": [
      "Validation | Epoch: 19| Loss: 0.204 | Accuracy on val images: 92.0\n"
     ]
    },
    {
     "name": "stderr",
     "output_type": "stream",
     "text": [
      "782it [02:59,  4.36it/s, accuracy=94.4, loss=0.232]\n"
     ]
    },
    {
     "name": "stdout",
     "output_type": "stream",
     "text": [
      "Training | Epoch: 20| Loss: 0.133 | Accuracy on train images: 94.4\n"
     ]
    },
    {
     "name": "stderr",
     "output_type": "stream",
     "text": [
      "2it [00:07,  3.52s/it]"
     ]
    },
    {
     "name": "stdout",
     "output_type": "stream",
     "text": [
      "Validation | Epoch: 20| Loss: 0.184 | Accuracy on val images: 92.7\n"
     ]
    },
    {
     "name": "stderr",
     "output_type": "stream",
     "text": [
      "\n"
     ]
    }
   ],
   "source": [
    "trainer.run(train_loader, valid_loader)"
   ]
  },
  {
   "cell_type": "markdown",
   "id": "9918859b",
   "metadata": {
    "_cell_guid": "d4ace419-2304-48f2-9142-273ff67bf100",
    "_uuid": "9a1dc195-9372-4e55-81d4-74e2859a7712",
    "papermill": {
     "duration": 0.865301,
     "end_time": "2023-03-20T05:51:21.329135",
     "exception": false,
     "start_time": "2023-03-20T05:51:20.463834",
     "status": "completed"
    },
    "tags": []
   },
   "source": [
    "## 6. Predict"
   ]
  },
  {
   "cell_type": "code",
   "execution_count": 21,
   "id": "77a6b35c",
   "metadata": {
    "_cell_guid": "2c8ea449-fa90-4db7-844f-931423c45d50",
    "_uuid": "aec357e6-16d4-45f9-9e62-1c9fb65f6f6a",
    "collapsed": false,
    "execution": {
     "iopub.execute_input": "2023-03-20T05:51:23.392086Z",
     "iopub.status.busy": "2023-03-20T05:51:23.391705Z",
     "iopub.status.idle": "2023-03-20T05:51:23.399902Z",
     "shell.execute_reply": "2023-03-20T05:51:23.398997Z"
    },
    "jupyter": {
     "outputs_hidden": false
    },
    "papermill": {
     "duration": 0.947471,
     "end_time": "2023-03-20T05:51:23.401999",
     "exception": false,
     "start_time": "2023-03-20T05:51:22.454528",
     "status": "completed"
    },
    "tags": []
   },
   "outputs": [],
   "source": [
    "class TestDataset(Dataset):\n",
    "    \"\"\"\n",
    "        The test dataset module\n",
    "    \"\"\"\n",
    "    def __init__(self, imgs, resize=None):\n",
    "        \"\"\"\n",
    "            Similar with CelebADataset \n",
    "                imgs: open images\n",
    "                resize: None or int, whether downsample or upsample the image to certain size\n",
    "        \"\"\"\n",
    "        self.imgs = imgs\n",
    "        self.resize = resize\n",
    "        \n",
    "        # Center crop the alingned dataset to 178x178 to include the face area \n",
    "        # and then downsample to 128x128 .\n",
    "        self.pre_process = transforms.Compose([\n",
    "                                            transforms.CenterCrop((178, 178)),\n",
    "                                            transforms.Resize((128,128)),\n",
    "                                            ])\n",
    "\n",
    "                          \n",
    "        # first transform the images to tensor format, then normalize the pixel values\n",
    "        self.totensor = transforms.Compose([\n",
    "                                    transforms.ToTensor(),\n",
    "                                    transforms.Normalize((0.5, 0.5, 0.5), (0.5, 0.5, 0.5)),\n",
    "                                    ])\n",
    "        \n",
    "        if resize is not None:\n",
    "            self.resampling = transforms.Resize((resize, resize))\n",
    "    \n",
    "    def __getitem__(self, index):\n",
    "        img = self.imgs[index]\n",
    "        img = self.pre_process(img)\n",
    "        img_tensor = self.totensor(img)\n",
    "        if self.resize is not None:\n",
    "            img_tensor = self.resampling(img_tensor)\n",
    "        return img_tensor\n",
    "        \n",
    "    def __len__(self):\n",
    "        return len(self.imgs)"
   ]
  },
  {
   "cell_type": "code",
   "execution_count": 22,
   "id": "11118fad",
   "metadata": {
    "_cell_guid": "7adc5aaa-1cad-4b8b-a1d6-0bd0be065f49",
    "_uuid": "5d3a8675-f5ee-4984-99fa-1c122077a9b3",
    "collapsed": false,
    "execution": {
     "iopub.execute_input": "2023-03-20T05:51:25.188721Z",
     "iopub.status.busy": "2023-03-20T05:51:25.188374Z",
     "iopub.status.idle": "2023-03-20T05:51:25.195081Z",
     "shell.execute_reply": "2023-03-20T05:51:25.194178Z"
    },
    "jupyter": {
     "outputs_hidden": false
    },
    "papermill": {
     "duration": 0.931119,
     "end_time": "2023-03-20T05:51:25.196983",
     "exception": false,
     "start_time": "2023-03-20T05:51:24.265864",
     "status": "completed"
    },
    "tags": []
   },
   "outputs": [],
   "source": [
    "TEST_BATCH_SIZE=1000\n",
    "\n",
    "def predict(model_path, test_file):\n",
    "    \"\"\"\n",
    "        Load the model and use it to predict test file \n",
    "    \"\"\"\n",
    "    test_data = torch.load(test_file)\n",
    "    test_dataset = TestDataset(test_data)\n",
    "    test_loader = torch.utils.data.DataLoader(\n",
    "                    test_dataset, batch_size=TEST_BATCH_SIZE\n",
    "                )\n",
    "    \n",
    "    model = torch.load(model_path)\n",
    "    model.eval()\n",
    "    preds = []\n",
    "    with torch.no_grad():\n",
    "        # labels are not available for the actual test set\n",
    "        for feature in tqdm(test_loader):\n",
    "            # calculate outputs by running images through the network\n",
    "            outputs = model(feature.to(device))\n",
    "            _, predicted = torch.max(outputs.data, 1)\n",
    "            preds.extend(predicted.tolist())\n",
    "\n",
    "    return preds"
   ]
  },
  {
   "cell_type": "code",
   "execution_count": 23,
   "id": "30d4759c",
   "metadata": {
    "_cell_guid": "97af0b68-5bf7-4f5e-8bd7-1e6262e34257",
    "_uuid": "63cc2f38-6953-44c7-8001-33963c3c2cb0",
    "collapsed": false,
    "execution": {
     "iopub.execute_input": "2023-03-20T05:51:26.969985Z",
     "iopub.status.busy": "2023-03-20T05:51:26.969606Z",
     "iopub.status.idle": "2023-03-20T05:51:35.804695Z",
     "shell.execute_reply": "2023-03-20T05:51:35.803497Z"
    },
    "jupyter": {
     "outputs_hidden": false
    },
    "papermill": {
     "duration": 9.754234,
     "end_time": "2023-03-20T05:51:35.807259",
     "exception": false,
     "start_time": "2023-03-20T05:51:26.053025",
     "status": "completed"
    },
    "tags": []
   },
   "outputs": [
    {
     "name": "stderr",
     "output_type": "stream",
     "text": [
      "100%|██████████| 2/2 [00:03<00:00,  1.72s/it]\n"
     ]
    }
   ],
   "source": [
    "model_path = \"best_checkpoint.pt\"\n",
    "test_file = \"/kaggle/input/cs190-winter23-deep-learning-mp1/test_img.pt\"\n",
    "preds = predict(model_path,test_file)"
   ]
  },
  {
   "cell_type": "code",
   "execution_count": 24,
   "id": "840c0913",
   "metadata": {
    "_cell_guid": "f37edbf1-0c0c-4b3d-8b92-5811e803fd78",
    "_uuid": "1d3acdd7-140e-46d0-87e6-e20677163b29",
    "collapsed": false,
    "execution": {
     "iopub.execute_input": "2023-03-20T05:51:37.674340Z",
     "iopub.status.busy": "2023-03-20T05:51:37.673950Z",
     "iopub.status.idle": "2023-03-20T05:51:37.684910Z",
     "shell.execute_reply": "2023-03-20T05:51:37.683986Z"
    },
    "jupyter": {
     "outputs_hidden": false
    },
    "papermill": {
     "duration": 0.98222,
     "end_time": "2023-03-20T05:51:37.687088",
     "exception": false,
     "start_time": "2023-03-20T05:51:36.704868",
     "status": "completed"
    },
    "tags": []
   },
   "outputs": [],
   "source": [
    "df = pd.DataFrame({'id': list(range(len(preds))),'label': preds})\n",
    "df.to_csv('submission.csv', index=False)"
   ]
  }
 ],
 "metadata": {
  "kernelspec": {
   "display_name": "Python 3",
   "language": "python",
   "name": "python3"
  },
  "language_info": {
   "codemirror_mode": {
    "name": "ipython",
    "version": 3
   },
   "file_extension": ".py",
   "mimetype": "text/x-python",
   "name": "python",
   "nbconvert_exporter": "python",
   "pygments_lexer": "ipython3",
   "version": "3.7.12"
  },
  "papermill": {
   "default_parameters": {},
   "duration": 4027.925789,
   "end_time": "2023-03-20T05:51:41.908127",
   "environment_variables": {},
   "exception": null,
   "input_path": "__notebook__.ipynb",
   "output_path": "__notebook__.ipynb",
   "parameters": {},
   "start_time": "2023-03-20T04:44:33.982338",
   "version": "2.3.4"
  },
  "widgets": {
   "application/vnd.jupyter.widget-state+json": {
    "state": {
     "154a1f02ab7d4db49a01a431fe4df1b9": {
      "model_module": "@jupyter-widgets/controls",
      "model_module_version": "1.5.0",
      "model_name": "HTMLModel",
      "state": {
       "_dom_classes": [],
       "_model_module": "@jupyter-widgets/controls",
       "_model_module_version": "1.5.0",
       "_model_name": "HTMLModel",
       "_view_count": null,
       "_view_module": "@jupyter-widgets/controls",
       "_view_module_version": "1.5.0",
       "_view_name": "HTMLView",
       "description": "",
       "description_tooltip": null,
       "layout": "IPY_MODEL_86cb510146784ec5b98de43606971696",
       "placeholder": "​",
       "style": "IPY_MODEL_57726f54eb77420bb700b762686d53c2",
       "value": " 4.78M/4.78M [00:00&lt;00:00, 65.7MB/s]"
      }
     },
     "57726f54eb77420bb700b762686d53c2": {
      "model_module": "@jupyter-widgets/controls",
      "model_module_version": "1.5.0",
      "model_name": "DescriptionStyleModel",
      "state": {
       "_model_module": "@jupyter-widgets/controls",
       "_model_module_version": "1.5.0",
       "_model_name": "DescriptionStyleModel",
       "_view_count": null,
       "_view_module": "@jupyter-widgets/base",
       "_view_module_version": "1.2.0",
       "_view_name": "StyleView",
       "description_width": ""
      }
     },
     "66b2c615fd2f492789924a2f70f21b50": {
      "model_module": "@jupyter-widgets/base",
      "model_module_version": "1.2.0",
      "model_name": "LayoutModel",
      "state": {
       "_model_module": "@jupyter-widgets/base",
       "_model_module_version": "1.2.0",
       "_model_name": "LayoutModel",
       "_view_count": null,
       "_view_module": "@jupyter-widgets/base",
       "_view_module_version": "1.2.0",
       "_view_name": "LayoutView",
       "align_content": null,
       "align_items": null,
       "align_self": null,
       "border": null,
       "bottom": null,
       "display": null,
       "flex": null,
       "flex_flow": null,
       "grid_area": null,
       "grid_auto_columns": null,
       "grid_auto_flow": null,
       "grid_auto_rows": null,
       "grid_column": null,
       "grid_gap": null,
       "grid_row": null,
       "grid_template_areas": null,
       "grid_template_columns": null,
       "grid_template_rows": null,
       "height": null,
       "justify_content": null,
       "justify_items": null,
       "left": null,
       "margin": null,
       "max_height": null,
       "max_width": null,
       "min_height": null,
       "min_width": null,
       "object_fit": null,
       "object_position": null,
       "order": null,
       "overflow": null,
       "overflow_x": null,
       "overflow_y": null,
       "padding": null,
       "right": null,
       "top": null,
       "visibility": null,
       "width": null
      }
     },
     "6ede320fa5c6406d821c459eceebc9cf": {
      "model_module": "@jupyter-widgets/controls",
      "model_module_version": "1.5.0",
      "model_name": "FloatProgressModel",
      "state": {
       "_dom_classes": [],
       "_model_module": "@jupyter-widgets/controls",
       "_model_module_version": "1.5.0",
       "_model_name": "FloatProgressModel",
       "_view_count": null,
       "_view_module": "@jupyter-widgets/controls",
       "_view_module_version": "1.5.0",
       "_view_name": "ProgressView",
       "bar_style": "success",
       "description": "",
       "description_tooltip": null,
       "layout": "IPY_MODEL_66b2c615fd2f492789924a2f70f21b50",
       "max": 5010551.0,
       "min": 0.0,
       "orientation": "horizontal",
       "style": "IPY_MODEL_beb438417eb44c71ab414a72d3edce6b",
       "value": 5010551.0
      }
     },
     "86cb510146784ec5b98de43606971696": {
      "model_module": "@jupyter-widgets/base",
      "model_module_version": "1.2.0",
      "model_name": "LayoutModel",
      "state": {
       "_model_module": "@jupyter-widgets/base",
       "_model_module_version": "1.2.0",
       "_model_name": "LayoutModel",
       "_view_count": null,
       "_view_module": "@jupyter-widgets/base",
       "_view_module_version": "1.2.0",
       "_view_name": "LayoutView",
       "align_content": null,
       "align_items": null,
       "align_self": null,
       "border": null,
       "bottom": null,
       "display": null,
       "flex": null,
       "flex_flow": null,
       "grid_area": null,
       "grid_auto_columns": null,
       "grid_auto_flow": null,
       "grid_auto_rows": null,
       "grid_column": null,
       "grid_gap": null,
       "grid_row": null,
       "grid_template_areas": null,
       "grid_template_columns": null,
       "grid_template_rows": null,
       "height": null,
       "justify_content": null,
       "justify_items": null,
       "left": null,
       "margin": null,
       "max_height": null,
       "max_width": null,
       "min_height": null,
       "min_width": null,
       "object_fit": null,
       "object_position": null,
       "order": null,
       "overflow": null,
       "overflow_x": null,
       "overflow_y": null,
       "padding": null,
       "right": null,
       "top": null,
       "visibility": null,
       "width": null
      }
     },
     "93822a008b30422f9aadf671044618b3": {
      "model_module": "@jupyter-widgets/controls",
      "model_module_version": "1.5.0",
      "model_name": "HTMLModel",
      "state": {
       "_dom_classes": [],
       "_model_module": "@jupyter-widgets/controls",
       "_model_module_version": "1.5.0",
       "_model_name": "HTMLModel",
       "_view_count": null,
       "_view_module": "@jupyter-widgets/controls",
       "_view_module_version": "1.5.0",
       "_view_name": "HTMLView",
       "description": "",
       "description_tooltip": null,
       "layout": "IPY_MODEL_f893eead97a0428f93f700f67beeb480",
       "placeholder": "​",
       "style": "IPY_MODEL_b20af34fa08849c99bd5a61168e62652",
       "value": "100%"
      }
     },
     "b20af34fa08849c99bd5a61168e62652": {
      "model_module": "@jupyter-widgets/controls",
      "model_module_version": "1.5.0",
      "model_name": "DescriptionStyleModel",
      "state": {
       "_model_module": "@jupyter-widgets/controls",
       "_model_module_version": "1.5.0",
       "_model_name": "DescriptionStyleModel",
       "_view_count": null,
       "_view_module": "@jupyter-widgets/base",
       "_view_module_version": "1.2.0",
       "_view_name": "StyleView",
       "description_width": ""
      }
     },
     "beb438417eb44c71ab414a72d3edce6b": {
      "model_module": "@jupyter-widgets/controls",
      "model_module_version": "1.5.0",
      "model_name": "ProgressStyleModel",
      "state": {
       "_model_module": "@jupyter-widgets/controls",
       "_model_module_version": "1.5.0",
       "_model_name": "ProgressStyleModel",
       "_view_count": null,
       "_view_module": "@jupyter-widgets/base",
       "_view_module_version": "1.2.0",
       "_view_name": "StyleView",
       "bar_color": null,
       "description_width": ""
      }
     },
     "c7e590a9a7ed451ab478c54aa65fed94": {
      "model_module": "@jupyter-widgets/base",
      "model_module_version": "1.2.0",
      "model_name": "LayoutModel",
      "state": {
       "_model_module": "@jupyter-widgets/base",
       "_model_module_version": "1.2.0",
       "_model_name": "LayoutModel",
       "_view_count": null,
       "_view_module": "@jupyter-widgets/base",
       "_view_module_version": "1.2.0",
       "_view_name": "LayoutView",
       "align_content": null,
       "align_items": null,
       "align_self": null,
       "border": null,
       "bottom": null,
       "display": null,
       "flex": null,
       "flex_flow": null,
       "grid_area": null,
       "grid_auto_columns": null,
       "grid_auto_flow": null,
       "grid_auto_rows": null,
       "grid_column": null,
       "grid_gap": null,
       "grid_row": null,
       "grid_template_areas": null,
       "grid_template_columns": null,
       "grid_template_rows": null,
       "height": null,
       "justify_content": null,
       "justify_items": null,
       "left": null,
       "margin": null,
       "max_height": null,
       "max_width": null,
       "min_height": null,
       "min_width": null,
       "object_fit": null,
       "object_position": null,
       "order": null,
       "overflow": null,
       "overflow_x": null,
       "overflow_y": null,
       "padding": null,
       "right": null,
       "top": null,
       "visibility": null,
       "width": null
      }
     },
     "f145a2d206d1489d903d8e4ed023e101": {
      "model_module": "@jupyter-widgets/controls",
      "model_module_version": "1.5.0",
      "model_name": "HBoxModel",
      "state": {
       "_dom_classes": [],
       "_model_module": "@jupyter-widgets/controls",
       "_model_module_version": "1.5.0",
       "_model_name": "HBoxModel",
       "_view_count": null,
       "_view_module": "@jupyter-widgets/controls",
       "_view_module_version": "1.5.0",
       "_view_name": "HBoxView",
       "box_style": "",
       "children": [
        "IPY_MODEL_93822a008b30422f9aadf671044618b3",
        "IPY_MODEL_6ede320fa5c6406d821c459eceebc9cf",
        "IPY_MODEL_154a1f02ab7d4db49a01a431fe4df1b9"
       ],
       "layout": "IPY_MODEL_c7e590a9a7ed451ab478c54aa65fed94"
      }
     },
     "f893eead97a0428f93f700f67beeb480": {
      "model_module": "@jupyter-widgets/base",
      "model_module_version": "1.2.0",
      "model_name": "LayoutModel",
      "state": {
       "_model_module": "@jupyter-widgets/base",
       "_model_module_version": "1.2.0",
       "_model_name": "LayoutModel",
       "_view_count": null,
       "_view_module": "@jupyter-widgets/base",
       "_view_module_version": "1.2.0",
       "_view_name": "LayoutView",
       "align_content": null,
       "align_items": null,
       "align_self": null,
       "border": null,
       "bottom": null,
       "display": null,
       "flex": null,
       "flex_flow": null,
       "grid_area": null,
       "grid_auto_columns": null,
       "grid_auto_flow": null,
       "grid_auto_rows": null,
       "grid_column": null,
       "grid_gap": null,
       "grid_row": null,
       "grid_template_areas": null,
       "grid_template_columns": null,
       "grid_template_rows": null,
       "height": null,
       "justify_content": null,
       "justify_items": null,
       "left": null,
       "margin": null,
       "max_height": null,
       "max_width": null,
       "min_height": null,
       "min_width": null,
       "object_fit": null,
       "object_position": null,
       "order": null,
       "overflow": null,
       "overflow_x": null,
       "overflow_y": null,
       "padding": null,
       "right": null,
       "top": null,
       "visibility": null,
       "width": null
      }
     }
    },
    "version_major": 2,
    "version_minor": 0
   }
  }
 },
 "nbformat": 4,
 "nbformat_minor": 5
}
